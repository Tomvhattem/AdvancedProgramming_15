{
 "cells": [
  {
   "cell_type": "code",
   "execution_count": 9,
   "id": "4390a194",
   "metadata": {},
   "outputs": [
    {
     "ename": "ModuleNotFoundError",
     "evalue": "No module named 'autogluon'",
     "output_type": "error",
     "traceback": [
      "\u001b[1;31m---------------------------------------------------------------------------\u001b[0m",
      "\u001b[1;31mModuleNotFoundError\u001b[0m                       Traceback (most recent call last)",
      "Cell \u001b[1;32mIn[9], line 5\u001b[0m\n\u001b[0;32m      3\u001b[0m \u001b[38;5;28;01mimport\u001b[39;00m \u001b[38;5;21;01mpandas\u001b[39;00m \u001b[38;5;28;01mas\u001b[39;00m \u001b[38;5;21;01mpd\u001b[39;00m\n\u001b[0;32m      4\u001b[0m \u001b[38;5;28;01mimport\u001b[39;00m \u001b[38;5;21;01mnumpy\u001b[39;00m \u001b[38;5;28;01mas\u001b[39;00m \u001b[38;5;21;01mnp\u001b[39;00m\n\u001b[1;32m----> 5\u001b[0m \u001b[38;5;28;01mfrom\u001b[39;00m \u001b[38;5;21;01mautogluon\u001b[39;00m\u001b[38;5;21;01m.\u001b[39;00m\u001b[38;5;21;01mtabular\u001b[39;00m \u001b[38;5;28;01mimport\u001b[39;00m TabularDataset, TabularPredictor\n",
      "\u001b[1;31mModuleNotFoundError\u001b[0m: No module named 'autogluon'"
     ]
    }
   ],
   "source": [
    "import sklearn\n",
    "from sklearn.model_selection import train_test_split\n",
    "import pandas as pd\n",
    "import numpy as np\n",
    "from autogluon.tabular import TabularDataset, TabularPredictor"
   ]
  },
  {
   "cell_type": "code",
   "execution_count": 7,
   "id": "47ff30b7",
   "metadata": {},
   "outputs": [],
   "source": [
    "#read excel file\n",
    "#dataset = pandas.read_csv('Dataset.csv')\n",
    "#get label dataframe, usually last column\n",
    "# #y = df.iloc[:,-1:]\n",
    "#get all features\n",
    "# #X = df. loc[:, df. columns != 'labels']\n",
    "#placeholder features and labels\n",
    "X = np.zeros((10,6))\n",
    "y = np.ones((10,1))"
   ]
  },
  {
   "cell_type": "code",
   "execution_count": 8,
   "id": "263855b0",
   "metadata": {},
   "outputs": [],
   "source": [
    "#create training set, validation set and test set 0.8:0.1:0.1 division\n",
    "X_train, X_test, y_train, y_test = train_test_split(X, y, test_size= 0.2, random_state=1)\n",
    "X_val, X_test, y_val, y_test = train_test_split(X_test, y_test, test_size =0.5, random_state=1)"
   ]
  },
  {
   "cell_type": "code",
   "execution_count": null,
   "id": "c6c6de7e",
   "metadata": {},
   "outputs": [],
   "source": [
    "#join training features and labels for autogluon\n",
    "train_set = pd.concat([X_train, y_train], axis=1)\n",
    "#get label column name\n",
    "label = 'label'\n",
    "#run algorithms on training set\n",
    "predictor = TabularPredictor(label=label).fit(train_set)\n",
    "val_set =  pd.concat([X_val, y_val], axis=1)\n",
    "predictor.leaderboard(val_set, silent=True)"
   ]
  }
 ],
 "metadata": {
  "kernelspec": {
   "display_name": "Python 3 (ipykernel)",
   "language": "python",
   "name": "python3"
  },
  "language_info": {
   "codemirror_mode": {
    "name": "ipython",
    "version": 3
   },
   "file_extension": ".py",
   "mimetype": "text/x-python",
   "name": "python",
   "nbconvert_exporter": "python",
   "pygments_lexer": "ipython3",
   "version": "3.9.16"
  }
 },
 "nbformat": 4,
 "nbformat_minor": 5
}
